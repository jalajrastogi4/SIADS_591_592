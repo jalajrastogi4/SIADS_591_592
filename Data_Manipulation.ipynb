{
 "cells": [
  {
   "cell_type": "code",
   "execution_count": 1,
   "id": "0d0f66f3",
   "metadata": {},
   "outputs": [],
   "source": [
    "import pandas as pd\n",
    "import numpy as np\n",
    "import matplotlib.pyplot as plt\n",
    "import seaborn as sns\n",
    "from scipy import stats\n",
    "from scipy.io import arff\n",
    "import os"
   ]
  },
  {
   "cell_type": "markdown",
   "id": "40d241bb",
   "metadata": {},
   "source": [
    "## Data Extraction ##"
   ]
  },
  {
   "cell_type": "code",
   "execution_count": 2,
   "id": "51b450b2",
   "metadata": {},
   "outputs": [],
   "source": [
    "# Search for arff files\n",
    "path_to_directory=\"./Dataset/\"\n",
    "files = [arff for arff in os.listdir(path_to_directory) if arff.endswith(\".arff\")]"
   ]
  },
  {
   "cell_type": "code",
   "execution_count": 3,
   "id": "d781ef1f",
   "metadata": {},
   "outputs": [],
   "source": [
    "# function to convert arff file to list of lines\n",
    "def toCsv(content): \n",
    "    data = False\n",
    "    header = \"\"\n",
    "    newContent = []\n",
    "    for line in content:\n",
    "        if not data:\n",
    "            if \"@attribute\" in line:\n",
    "                attri = line.split()\n",
    "                columnName = attri[attri.index(\"@attribute\")+1]\n",
    "                header = header + columnName + \",\"\n",
    "            elif \"@data\" in line:\n",
    "                data = True\n",
    "                header = header[:-1]\n",
    "                header += '\\n'\n",
    "                newContent.append(header)\n",
    "        else:\n",
    "            newContent.append(line)\n",
    "    return newContent\n",
    "\n",
    "# Main loop for reading and writing files\n",
    "for zzzz,file in enumerate(files):\n",
    "    with open(path_to_directory+file , \"r\") as inFile:\n",
    "        content = inFile.readlines()\n",
    "        name,ext = os.path.splitext(inFile.name)\n",
    "        new = toCsv(content)\n",
    "        with open(\"csv_result-\"+name+\".csv\", \"w\") as outFile:\n",
    "            outFile.writelines(new)"
   ]
  },
  {
   "cell_type": "markdown",
   "id": "f558cbcc",
   "metadata": {},
   "source": [
    "## Data Merging ##"
   ]
  },
  {
   "cell_type": "code",
   "execution_count": 11,
   "id": "e81452f6",
   "metadata": {},
   "outputs": [],
   "source": [
    "df_pc3 = pd.read_csv('./Dataset/csv_result-PC3.csv')\n",
    "df_pc4 = pd.read_csv('./Dataset/csv_result-PC4.csv')\n",
    "df_mc1 = pd.read_csv('./Dataset/csv_result-MC1.csv')"
   ]
  },
  {
   "cell_type": "code",
   "execution_count": 12,
   "id": "a266d685",
   "metadata": {},
   "outputs": [
    {
     "data": {
      "text/plain": [
       "id                                 0\n",
       "LOC_BLANK                          0\n",
       "BRANCH_COUNT                       0\n",
       "CALL_PAIRS                         0\n",
       "LOC_CODE_AND_COMMENT               0\n",
       "LOC_COMMENTS                       0\n",
       "CONDITION_COUNT                    0\n",
       "CYCLOMATIC_COMPLEXITY              0\n",
       "CYCLOMATIC_DENSITY                 0\n",
       "DECISION_COUNT                     0\n",
       "DESIGN_COMPLEXITY                  0\n",
       "DESIGN_DENSITY                     0\n",
       "EDGE_COUNT                         0\n",
       "ESSENTIAL_COMPLEXITY               0\n",
       "ESSENTIAL_DENSITY                  0\n",
       "LOC_EXECUTABLE                     0\n",
       "PARAMETER_COUNT                    0\n",
       "GLOBAL_DATA_COMPLEXITY             0\n",
       "GLOBAL_DATA_DENSITY                0\n",
       "HALSTEAD_CONTENT                   0\n",
       "HALSTEAD_DIFFICULTY                0\n",
       "HALSTEAD_EFFORT                    0\n",
       "HALSTEAD_ERROR_EST                 0\n",
       "HALSTEAD_LENGTH                    0\n",
       "HALSTEAD_LEVEL                     0\n",
       "HALSTEAD_PROG_TIME                 0\n",
       "HALSTEAD_VOLUME                    0\n",
       "MAINTENANCE_SEVERITY               0\n",
       "MODIFIED_CONDITION_COUNT           0\n",
       "MULTIPLE_CONDITION_COUNT           0\n",
       "NODE_COUNT                         0\n",
       "NORMALIZED_CYLOMATIC_COMPLEXITY    0\n",
       "NUM_OPERANDS                       0\n",
       "NUM_OPERATORS                      0\n",
       "NUM_UNIQUE_OPERANDS                0\n",
       "NUM_UNIQUE_OPERATORS               0\n",
       "NUMBER_OF_LINES                    0\n",
       "PERCENT_COMMENTS                   0\n",
       "LOC_TOTAL                          0\n",
       "Defective                          0\n",
       "dtype: int64"
      ]
     },
     "execution_count": 12,
     "metadata": {},
     "output_type": "execute_result"
    }
   ],
   "source": [
    "# null Values check\n",
    "df_mc1.isnull().sum()"
   ]
  },
  {
   "cell_type": "code",
   "execution_count": 13,
   "id": "4672d854",
   "metadata": {},
   "outputs": [
    {
     "data": {
      "text/plain": [
       "id                                 0\n",
       "LOC_BLANK                          0\n",
       "BRANCH_COUNT                       0\n",
       "CALL_PAIRS                         0\n",
       "LOC_CODE_AND_COMMENT               0\n",
       "LOC_COMMENTS                       0\n",
       "CONDITION_COUNT                    0\n",
       "CYCLOMATIC_COMPLEXITY              0\n",
       "CYCLOMATIC_DENSITY                 0\n",
       "DECISION_COUNT                     0\n",
       "DECISION_DENSITY                   0\n",
       "DESIGN_COMPLEXITY                  0\n",
       "DESIGN_DENSITY                     0\n",
       "EDGE_COUNT                         0\n",
       "ESSENTIAL_COMPLEXITY               0\n",
       "ESSENTIAL_DENSITY                  0\n",
       "LOC_EXECUTABLE                     0\n",
       "PARAMETER_COUNT                    0\n",
       "HALSTEAD_CONTENT                   0\n",
       "HALSTEAD_DIFFICULTY                0\n",
       "HALSTEAD_EFFORT                    0\n",
       "HALSTEAD_ERROR_EST                 0\n",
       "HALSTEAD_LENGTH                    0\n",
       "HALSTEAD_LEVEL                     0\n",
       "HALSTEAD_PROG_TIME                 0\n",
       "HALSTEAD_VOLUME                    0\n",
       "MAINTENANCE_SEVERITY               0\n",
       "MODIFIED_CONDITION_COUNT           0\n",
       "MULTIPLE_CONDITION_COUNT           0\n",
       "NODE_COUNT                         0\n",
       "NORMALIZED_CYLOMATIC_COMPLEXITY    0\n",
       "NUM_OPERANDS                       0\n",
       "NUM_OPERATORS                      0\n",
       "NUM_UNIQUE_OPERANDS                0\n",
       "NUM_UNIQUE_OPERATORS               0\n",
       "NUMBER_OF_LINES                    0\n",
       "PERCENT_COMMENTS                   0\n",
       "LOC_TOTAL                          0\n",
       "c                                  0\n",
       "dtype: int64"
      ]
     },
     "execution_count": 13,
     "metadata": {},
     "output_type": "execute_result"
    }
   ],
   "source": [
    "df_pc4.isnull().sum()"
   ]
  },
  {
   "cell_type": "code",
   "execution_count": 14,
   "id": "1d02efe3",
   "metadata": {},
   "outputs": [
    {
     "data": {
      "text/plain": [
       "id                                 0\n",
       "LOC_BLANK                          0\n",
       "BRANCH_COUNT                       0\n",
       "CALL_PAIRS                         0\n",
       "LOC_CODE_AND_COMMENT               0\n",
       "LOC_COMMENTS                       0\n",
       "CONDITION_COUNT                    0\n",
       "CYCLOMATIC_COMPLEXITY              0\n",
       "CYCLOMATIC_DENSITY                 0\n",
       "DECISION_COUNT                     0\n",
       "DECISION_DENSITY                   0\n",
       "DESIGN_COMPLEXITY                  0\n",
       "DESIGN_DENSITY                     0\n",
       "EDGE_COUNT                         0\n",
       "ESSENTIAL_COMPLEXITY               0\n",
       "ESSENTIAL_DENSITY                  0\n",
       "LOC_EXECUTABLE                     0\n",
       "PARAMETER_COUNT                    0\n",
       "HALSTEAD_CONTENT                   0\n",
       "HALSTEAD_DIFFICULTY                0\n",
       "HALSTEAD_EFFORT                    0\n",
       "HALSTEAD_ERROR_EST                 0\n",
       "HALSTEAD_LENGTH                    0\n",
       "HALSTEAD_LEVEL                     0\n",
       "HALSTEAD_PROG_TIME                 0\n",
       "HALSTEAD_VOLUME                    0\n",
       "MAINTENANCE_SEVERITY               0\n",
       "MODIFIED_CONDITION_COUNT           0\n",
       "MULTIPLE_CONDITION_COUNT           0\n",
       "NODE_COUNT                         0\n",
       "NORMALIZED_CYLOMATIC_COMPLEXITY    0\n",
       "NUM_OPERANDS                       0\n",
       "NUM_OPERATORS                      0\n",
       "NUM_UNIQUE_OPERANDS                0\n",
       "NUM_UNIQUE_OPERATORS               0\n",
       "NUMBER_OF_LINES                    0\n",
       "PERCENT_COMMENTS                   0\n",
       "LOC_TOTAL                          0\n",
       "Defective                          0\n",
       "dtype: int64"
      ]
     },
     "execution_count": 14,
     "metadata": {},
     "output_type": "execute_result"
    }
   ],
   "source": [
    "df_pc3.isnull().sum() "
   ]
  },
  {
   "cell_type": "code",
   "execution_count": 15,
   "id": "bb940c3f",
   "metadata": {},
   "outputs": [
    {
     "data": {
      "text/plain": [
       "(1077, 39)"
      ]
     },
     "execution_count": 15,
     "metadata": {},
     "output_type": "execute_result"
    }
   ],
   "source": [
    "df_pc3.shape"
   ]
  },
  {
   "cell_type": "code",
   "execution_count": 16,
   "id": "b96fa604",
   "metadata": {},
   "outputs": [
    {
     "data": {
      "text/plain": [
       "(1458, 39)"
      ]
     },
     "execution_count": 16,
     "metadata": {},
     "output_type": "execute_result"
    }
   ],
   "source": [
    "df_pc4.shape"
   ]
  },
  {
   "cell_type": "code",
   "execution_count": 17,
   "id": "e5546682",
   "metadata": {},
   "outputs": [
    {
     "data": {
      "text/plain": [
       "(1988, 40)"
      ]
     },
     "execution_count": 17,
     "metadata": {},
     "output_type": "execute_result"
    }
   ],
   "source": [
    "df_mc1.shape"
   ]
  },
  {
   "cell_type": "markdown",
   "id": "a1a4c7df",
   "metadata": {},
   "source": [
    "comparing pc4 to mc1, pc4 has decision density but mc1 does not while mc1 has global data complexity and global data density while pc4 does not pc4 columns = pc3 columns except for last column that predicts is named differently also pc3 and pc4 has the same column name for the last column"
   ]
  },
  {
   "cell_type": "markdown",
   "id": "5dd6086e",
   "metadata": {},
   "source": [
    "## Merge PC4 and PC3 ##"
   ]
  },
  {
   "cell_type": "code",
   "execution_count": 18,
   "id": "72581b05",
   "metadata": {},
   "outputs": [
    {
     "name": "stderr",
     "output_type": "stream",
     "text": [
      "D:\\Michigan_Study_Folder\\SIADS_591\\SIADS_591_592-main\\env\\lib\\site-packages\\pandas\\core\\reshape\\merge.py:1204: UserWarning: You are merging on int and float columns where the float values are not equal to their int representation\n",
      "  warnings.warn(\n"
     ]
    }
   ],
   "source": [
    "df = df_pc3.merge(df_pc4, how = 'outer')"
   ]
  },
  {
   "cell_type": "code",
   "execution_count": 19,
   "id": "81cc3c85",
   "metadata": {},
   "outputs": [],
   "source": [
    "# set nans to an empty string\n",
    "df2 = df[['Defective','c']].fillna('')\n",
    "df2[\"defects\"] = df2[\"Defective\"].astype('string') + df2[\"c\"].astype('string')\n",
    "df2 = df2.drop(labels = ['Defective', 'c'], axis = 1)"
   ]
  },
  {
   "cell_type": "code",
   "execution_count": 20,
   "id": "b6fcdff9",
   "metadata": {},
   "outputs": [],
   "source": [
    "df['defects'] = df2\n",
    "df= df.drop(labels = ['Defective', 'c'], axis = 1)"
   ]
  },
  {
   "cell_type": "code",
   "execution_count": 21,
   "id": "7841a98f",
   "metadata": {},
   "outputs": [],
   "source": [
    "df['defects'] = df['defects'].astype('string')"
   ]
  },
  {
   "cell_type": "code",
   "execution_count": 22,
   "id": "d0ccee65",
   "metadata": {},
   "outputs": [],
   "source": [
    "df['defects'] = df['defects'].str.replace('False', '0')\n",
    "df['defects'] = df['defects'].str.replace('True', '1')\n",
    "df['defects'] = df['defects'].str.replace('N', '0')\n",
    "df['defects'] = df['defects'].str.replace('Y', '1')"
   ]
  },
  {
   "cell_type": "code",
   "execution_count": 23,
   "id": "0a111e1c",
   "metadata": {},
   "outputs": [],
   "source": [
    "df['defects'] = df['defects'].astype('int64')"
   ]
  },
  {
   "cell_type": "code",
   "execution_count": 24,
   "id": "80432b33",
   "metadata": {},
   "outputs": [
    {
     "data": {
      "text/html": [
       "<div>\n",
       "<style scoped>\n",
       "    .dataframe tbody tr th:only-of-type {\n",
       "        vertical-align: middle;\n",
       "    }\n",
       "\n",
       "    .dataframe tbody tr th {\n",
       "        vertical-align: top;\n",
       "    }\n",
       "\n",
       "    .dataframe thead th {\n",
       "        text-align: right;\n",
       "    }\n",
       "</style>\n",
       "<table border=\"1\" class=\"dataframe\">\n",
       "  <thead>\n",
       "    <tr style=\"text-align: right;\">\n",
       "      <th></th>\n",
       "      <th>id</th>\n",
       "      <th>LOC_BLANK</th>\n",
       "      <th>BRANCH_COUNT</th>\n",
       "      <th>CALL_PAIRS</th>\n",
       "      <th>LOC_CODE_AND_COMMENT</th>\n",
       "      <th>LOC_COMMENTS</th>\n",
       "      <th>CONDITION_COUNT</th>\n",
       "      <th>CYCLOMATIC_COMPLEXITY</th>\n",
       "      <th>CYCLOMATIC_DENSITY</th>\n",
       "      <th>DECISION_COUNT</th>\n",
       "      <th>...</th>\n",
       "      <th>NODE_COUNT</th>\n",
       "      <th>NORMALIZED_CYLOMATIC_COMPLEXITY</th>\n",
       "      <th>NUM_OPERANDS</th>\n",
       "      <th>NUM_OPERATORS</th>\n",
       "      <th>NUM_UNIQUE_OPERANDS</th>\n",
       "      <th>NUM_UNIQUE_OPERATORS</th>\n",
       "      <th>NUMBER_OF_LINES</th>\n",
       "      <th>PERCENT_COMMENTS</th>\n",
       "      <th>LOC_TOTAL</th>\n",
       "      <th>defects</th>\n",
       "    </tr>\n",
       "  </thead>\n",
       "  <tbody>\n",
       "    <tr>\n",
       "      <th>0</th>\n",
       "      <td>1</td>\n",
       "      <td>16</td>\n",
       "      <td>13</td>\n",
       "      <td>1</td>\n",
       "      <td>6</td>\n",
       "      <td>11</td>\n",
       "      <td>20</td>\n",
       "      <td>7</td>\n",
       "      <td>0.24</td>\n",
       "      <td>8</td>\n",
       "      <td>...</td>\n",
       "      <td>17</td>\n",
       "      <td>0.12</td>\n",
       "      <td>68</td>\n",
       "      <td>81</td>\n",
       "      <td>31</td>\n",
       "      <td>21</td>\n",
       "      <td>57</td>\n",
       "      <td>42.50</td>\n",
       "      <td>29</td>\n",
       "      <td>0</td>\n",
       "    </tr>\n",
       "    <tr>\n",
       "      <th>1</th>\n",
       "      <td>2</td>\n",
       "      <td>2</td>\n",
       "      <td>7</td>\n",
       "      <td>0</td>\n",
       "      <td>0</td>\n",
       "      <td>7</td>\n",
       "      <td>10</td>\n",
       "      <td>4</td>\n",
       "      <td>0.29</td>\n",
       "      <td>4</td>\n",
       "      <td>...</td>\n",
       "      <td>9</td>\n",
       "      <td>0.17</td>\n",
       "      <td>9</td>\n",
       "      <td>22</td>\n",
       "      <td>5</td>\n",
       "      <td>8</td>\n",
       "      <td>24</td>\n",
       "      <td>33.33</td>\n",
       "      <td>14</td>\n",
       "      <td>1</td>\n",
       "    </tr>\n",
       "    <tr>\n",
       "      <th>2</th>\n",
       "      <td>3</td>\n",
       "      <td>1</td>\n",
       "      <td>13</td>\n",
       "      <td>5</td>\n",
       "      <td>0</td>\n",
       "      <td>0</td>\n",
       "      <td>22</td>\n",
       "      <td>7</td>\n",
       "      <td>0.37</td>\n",
       "      <td>10</td>\n",
       "      <td>...</td>\n",
       "      <td>23</td>\n",
       "      <td>0.33</td>\n",
       "      <td>38</td>\n",
       "      <td>53</td>\n",
       "      <td>19</td>\n",
       "      <td>19</td>\n",
       "      <td>21</td>\n",
       "      <td>0.00</td>\n",
       "      <td>19</td>\n",
       "      <td>0</td>\n",
       "    </tr>\n",
       "    <tr>\n",
       "      <th>3</th>\n",
       "      <td>4</td>\n",
       "      <td>8</td>\n",
       "      <td>3</td>\n",
       "      <td>1</td>\n",
       "      <td>0</td>\n",
       "      <td>1</td>\n",
       "      <td>4</td>\n",
       "      <td>2</td>\n",
       "      <td>0.14</td>\n",
       "      <td>2</td>\n",
       "      <td>...</td>\n",
       "      <td>6</td>\n",
       "      <td>0.08</td>\n",
       "      <td>32</td>\n",
       "      <td>38</td>\n",
       "      <td>19</td>\n",
       "      <td>13</td>\n",
       "      <td>24</td>\n",
       "      <td>6.67</td>\n",
       "      <td>14</td>\n",
       "      <td>0</td>\n",
       "    </tr>\n",
       "    <tr>\n",
       "      <th>4</th>\n",
       "      <td>5</td>\n",
       "      <td>1</td>\n",
       "      <td>5</td>\n",
       "      <td>2</td>\n",
       "      <td>1</td>\n",
       "      <td>1</td>\n",
       "      <td>6</td>\n",
       "      <td>3</td>\n",
       "      <td>0.15</td>\n",
       "      <td>2</td>\n",
       "      <td>...</td>\n",
       "      <td>9</td>\n",
       "      <td>0.13</td>\n",
       "      <td>27</td>\n",
       "      <td>33</td>\n",
       "      <td>19</td>\n",
       "      <td>14</td>\n",
       "      <td>23</td>\n",
       "      <td>9.52</td>\n",
       "      <td>20</td>\n",
       "      <td>0</td>\n",
       "    </tr>\n",
       "  </tbody>\n",
       "</table>\n",
       "<p>5 rows × 39 columns</p>\n",
       "</div>"
      ],
      "text/plain": [
       "   id  LOC_BLANK  BRANCH_COUNT  CALL_PAIRS  LOC_CODE_AND_COMMENT  \\\n",
       "0   1         16            13           1                     6   \n",
       "1   2          2             7           0                     0   \n",
       "2   3          1            13           5                     0   \n",
       "3   4          8             3           1                     0   \n",
       "4   5          1             5           2                     1   \n",
       "\n",
       "   LOC_COMMENTS  CONDITION_COUNT  CYCLOMATIC_COMPLEXITY  CYCLOMATIC_DENSITY  \\\n",
       "0            11               20                      7                0.24   \n",
       "1             7               10                      4                0.29   \n",
       "2             0               22                      7                0.37   \n",
       "3             1                4                      2                0.14   \n",
       "4             1                6                      3                0.15   \n",
       "\n",
       "   DECISION_COUNT  ...  NODE_COUNT  NORMALIZED_CYLOMATIC_COMPLEXITY  \\\n",
       "0               8  ...          17                             0.12   \n",
       "1               4  ...           9                             0.17   \n",
       "2              10  ...          23                             0.33   \n",
       "3               2  ...           6                             0.08   \n",
       "4               2  ...           9                             0.13   \n",
       "\n",
       "   NUM_OPERANDS  NUM_OPERATORS  NUM_UNIQUE_OPERANDS  NUM_UNIQUE_OPERATORS  \\\n",
       "0            68             81                   31                    21   \n",
       "1             9             22                    5                     8   \n",
       "2            38             53                   19                    19   \n",
       "3            32             38                   19                    13   \n",
       "4            27             33                   19                    14   \n",
       "\n",
       "   NUMBER_OF_LINES  PERCENT_COMMENTS  LOC_TOTAL  defects  \n",
       "0               57             42.50         29        0  \n",
       "1               24             33.33         14        1  \n",
       "2               21              0.00         19        0  \n",
       "3               24              6.67         14        0  \n",
       "4               23              9.52         20        0  \n",
       "\n",
       "[5 rows x 39 columns]"
      ]
     },
     "execution_count": 24,
     "metadata": {},
     "output_type": "execute_result"
    }
   ],
   "source": [
    "df.head()"
   ]
  },
  {
   "cell_type": "markdown",
   "id": "c6910cda",
   "metadata": {},
   "source": [
    "## Now merge mc1 ##"
   ]
  },
  {
   "cell_type": "code",
   "execution_count": 25,
   "id": "f1d60c50",
   "metadata": {},
   "outputs": [
    {
     "name": "stderr",
     "output_type": "stream",
     "text": [
      "D:\\Michigan_Study_Folder\\SIADS_591\\SIADS_591_592-main\\env\\lib\\site-packages\\pandas\\core\\reshape\\merge.py:1204: UserWarning: You are merging on int and float columns where the float values are not equal to their int representation\n",
      "  warnings.warn(\n"
     ]
    }
   ],
   "source": [
    "df = df.merge(df_mc1, how = 'outer')"
   ]
  },
  {
   "cell_type": "code",
   "execution_count": 26,
   "id": "836b1d9e",
   "metadata": {},
   "outputs": [],
   "source": [
    "df = df.merge(df_mc1, how = 'outer')\n",
    "# set nans to an empty string\n",
    "df3 = df[['Defective','defects']].fillna('')\n",
    "df3[\"defected\"] = df3[\"Defective\"].astype('string') + df3[\"defects\"].astype('string')\n",
    "df3 = df3.drop(labels = ['Defective', 'defects'], axis = 1)\n",
    "df['defected'] = df3\n",
    "df_f = df.drop(['defects','Defective'], axis = 1)\n",
    "df_f['defected'] = df_f['defected'].astype('string')\n",
    "df_f['defected'] = df_f['defected'].str.replace('False', '0')\n",
    "df_f['defected'] = df_f['defected'].str.replace('True', '1')\n",
    "df_f['defected'] = df_f['defected'].str.replace('N', '0')\n",
    "df_f['defected'] = df_f['defected'].str.replace('Y', '1')\n",
    "df_f['defected'] = df_f['defected'].astype('float')"
   ]
  },
  {
   "cell_type": "code",
   "execution_count": 27,
   "id": "a51c1ddf",
   "metadata": {},
   "outputs": [
    {
     "data": {
      "text/html": [
       "<div>\n",
       "<style scoped>\n",
       "    .dataframe tbody tr th:only-of-type {\n",
       "        vertical-align: middle;\n",
       "    }\n",
       "\n",
       "    .dataframe tbody tr th {\n",
       "        vertical-align: top;\n",
       "    }\n",
       "\n",
       "    .dataframe thead th {\n",
       "        text-align: right;\n",
       "    }\n",
       "</style>\n",
       "<table border=\"1\" class=\"dataframe\">\n",
       "  <thead>\n",
       "    <tr style=\"text-align: right;\">\n",
       "      <th></th>\n",
       "      <th>id</th>\n",
       "      <th>LOC_BLANK</th>\n",
       "      <th>BRANCH_COUNT</th>\n",
       "      <th>CALL_PAIRS</th>\n",
       "      <th>LOC_CODE_AND_COMMENT</th>\n",
       "      <th>LOC_COMMENTS</th>\n",
       "      <th>CONDITION_COUNT</th>\n",
       "      <th>CYCLOMATIC_COMPLEXITY</th>\n",
       "      <th>CYCLOMATIC_DENSITY</th>\n",
       "      <th>DECISION_COUNT</th>\n",
       "      <th>...</th>\n",
       "      <th>NUM_OPERANDS</th>\n",
       "      <th>NUM_OPERATORS</th>\n",
       "      <th>NUM_UNIQUE_OPERANDS</th>\n",
       "      <th>NUM_UNIQUE_OPERATORS</th>\n",
       "      <th>NUMBER_OF_LINES</th>\n",
       "      <th>PERCENT_COMMENTS</th>\n",
       "      <th>LOC_TOTAL</th>\n",
       "      <th>GLOBAL_DATA_COMPLEXITY</th>\n",
       "      <th>GLOBAL_DATA_DENSITY</th>\n",
       "      <th>defected</th>\n",
       "    </tr>\n",
       "  </thead>\n",
       "  <tbody>\n",
       "    <tr>\n",
       "      <th>0</th>\n",
       "      <td>1</td>\n",
       "      <td>16</td>\n",
       "      <td>13</td>\n",
       "      <td>1</td>\n",
       "      <td>6</td>\n",
       "      <td>11</td>\n",
       "      <td>20</td>\n",
       "      <td>7</td>\n",
       "      <td>0.24</td>\n",
       "      <td>8</td>\n",
       "      <td>...</td>\n",
       "      <td>68</td>\n",
       "      <td>81</td>\n",
       "      <td>31</td>\n",
       "      <td>21</td>\n",
       "      <td>57</td>\n",
       "      <td>42.50</td>\n",
       "      <td>29</td>\n",
       "      <td>NaN</td>\n",
       "      <td>NaN</td>\n",
       "      <td>0.0</td>\n",
       "    </tr>\n",
       "    <tr>\n",
       "      <th>1</th>\n",
       "      <td>2</td>\n",
       "      <td>2</td>\n",
       "      <td>7</td>\n",
       "      <td>0</td>\n",
       "      <td>0</td>\n",
       "      <td>7</td>\n",
       "      <td>10</td>\n",
       "      <td>4</td>\n",
       "      <td>0.29</td>\n",
       "      <td>4</td>\n",
       "      <td>...</td>\n",
       "      <td>9</td>\n",
       "      <td>22</td>\n",
       "      <td>5</td>\n",
       "      <td>8</td>\n",
       "      <td>24</td>\n",
       "      <td>33.33</td>\n",
       "      <td>14</td>\n",
       "      <td>NaN</td>\n",
       "      <td>NaN</td>\n",
       "      <td>1.0</td>\n",
       "    </tr>\n",
       "    <tr>\n",
       "      <th>2</th>\n",
       "      <td>3</td>\n",
       "      <td>1</td>\n",
       "      <td>13</td>\n",
       "      <td>5</td>\n",
       "      <td>0</td>\n",
       "      <td>0</td>\n",
       "      <td>22</td>\n",
       "      <td>7</td>\n",
       "      <td>0.37</td>\n",
       "      <td>10</td>\n",
       "      <td>...</td>\n",
       "      <td>38</td>\n",
       "      <td>53</td>\n",
       "      <td>19</td>\n",
       "      <td>19</td>\n",
       "      <td>21</td>\n",
       "      <td>0.00</td>\n",
       "      <td>19</td>\n",
       "      <td>NaN</td>\n",
       "      <td>NaN</td>\n",
       "      <td>0.0</td>\n",
       "    </tr>\n",
       "    <tr>\n",
       "      <th>3</th>\n",
       "      <td>4</td>\n",
       "      <td>8</td>\n",
       "      <td>3</td>\n",
       "      <td>1</td>\n",
       "      <td>0</td>\n",
       "      <td>1</td>\n",
       "      <td>4</td>\n",
       "      <td>2</td>\n",
       "      <td>0.14</td>\n",
       "      <td>2</td>\n",
       "      <td>...</td>\n",
       "      <td>32</td>\n",
       "      <td>38</td>\n",
       "      <td>19</td>\n",
       "      <td>13</td>\n",
       "      <td>24</td>\n",
       "      <td>6.67</td>\n",
       "      <td>14</td>\n",
       "      <td>NaN</td>\n",
       "      <td>NaN</td>\n",
       "      <td>0.0</td>\n",
       "    </tr>\n",
       "    <tr>\n",
       "      <th>4</th>\n",
       "      <td>5</td>\n",
       "      <td>1</td>\n",
       "      <td>5</td>\n",
       "      <td>2</td>\n",
       "      <td>1</td>\n",
       "      <td>1</td>\n",
       "      <td>6</td>\n",
       "      <td>3</td>\n",
       "      <td>0.15</td>\n",
       "      <td>2</td>\n",
       "      <td>...</td>\n",
       "      <td>27</td>\n",
       "      <td>33</td>\n",
       "      <td>19</td>\n",
       "      <td>14</td>\n",
       "      <td>23</td>\n",
       "      <td>9.52</td>\n",
       "      <td>20</td>\n",
       "      <td>NaN</td>\n",
       "      <td>NaN</td>\n",
       "      <td>0.0</td>\n",
       "    </tr>\n",
       "  </tbody>\n",
       "</table>\n",
       "<p>5 rows × 41 columns</p>\n",
       "</div>"
      ],
      "text/plain": [
       "   id  LOC_BLANK  BRANCH_COUNT  CALL_PAIRS  LOC_CODE_AND_COMMENT  \\\n",
       "0   1         16            13           1                     6   \n",
       "1   2          2             7           0                     0   \n",
       "2   3          1            13           5                     0   \n",
       "3   4          8             3           1                     0   \n",
       "4   5          1             5           2                     1   \n",
       "\n",
       "   LOC_COMMENTS  CONDITION_COUNT  CYCLOMATIC_COMPLEXITY  CYCLOMATIC_DENSITY  \\\n",
       "0            11               20                      7                0.24   \n",
       "1             7               10                      4                0.29   \n",
       "2             0               22                      7                0.37   \n",
       "3             1                4                      2                0.14   \n",
       "4             1                6                      3                0.15   \n",
       "\n",
       "   DECISION_COUNT  ...  NUM_OPERANDS  NUM_OPERATORS  NUM_UNIQUE_OPERANDS  \\\n",
       "0               8  ...            68             81                   31   \n",
       "1               4  ...             9             22                    5   \n",
       "2              10  ...            38             53                   19   \n",
       "3               2  ...            32             38                   19   \n",
       "4               2  ...            27             33                   19   \n",
       "\n",
       "   NUM_UNIQUE_OPERATORS  NUMBER_OF_LINES  PERCENT_COMMENTS  LOC_TOTAL  \\\n",
       "0                    21               57             42.50         29   \n",
       "1                     8               24             33.33         14   \n",
       "2                    19               21              0.00         19   \n",
       "3                    13               24              6.67         14   \n",
       "4                    14               23              9.52         20   \n",
       "\n",
       "   GLOBAL_DATA_COMPLEXITY  GLOBAL_DATA_DENSITY  defected  \n",
       "0                     NaN                  NaN       0.0  \n",
       "1                     NaN                  NaN       1.0  \n",
       "2                     NaN                  NaN       0.0  \n",
       "3                     NaN                  NaN       0.0  \n",
       "4                     NaN                  NaN       0.0  \n",
       "\n",
       "[5 rows x 41 columns]"
      ]
     },
     "execution_count": 27,
     "metadata": {},
     "output_type": "execute_result"
    }
   ],
   "source": [
    "df_f.head()"
   ]
  },
  {
   "cell_type": "code",
   "execution_count": 28,
   "id": "4fe29c4b",
   "metadata": {},
   "outputs": [
    {
     "data": {
      "text/plain": [
       "0.0    4165\n",
       "1.0     358\n",
       "Name: defected, dtype: int64"
      ]
     },
     "execution_count": 28,
     "metadata": {},
     "output_type": "execute_result"
    }
   ],
   "source": [
    "df_f['defected'].value_counts()"
   ]
  },
  {
   "cell_type": "code",
   "execution_count": 29,
   "id": "6871124f",
   "metadata": {},
   "outputs": [
    {
     "name": "stderr",
     "output_type": "stream",
     "text": [
      "C:\\Users\\jalaj\\AppData\\Local\\Temp/ipykernel_25188/802670761.py:3: RuntimeWarning: More than 20 figures have been opened. Figures created through the pyplot interface (`matplotlib.pyplot.figure`) are retained until explicitly closed and may consume too much memory. (To control this warning, see the rcParam `figure.max_open_warning`).\n",
      "  plt.figure()\n"
     ]
    },
    {
     "data": {
      "text/plain": [
       "<Figure size 432x288 with 0 Axes>"
      ]
     },
     "metadata": {},
     "output_type": "display_data"
    },
    {
     "data": {
      "image/png": "[encoded data removed]",
      "text/plain": [
       "<Figure size 360x360 with 1 Axes>"
      ]
     },
     "metadata": {
      "needs_background": "light"
     },
     "output_type": "display_data"
    },
    {
     "data": {
      "text/plain": [
       "<Figure size 432x288 with 0 Axes>"
      ]
     },
     "metadata": {},
     "output_type": "display_data"
    },
    {
     "data": {
      "image/png": "[encoded data removed]",
      "text/plain": [
       "<Figure size 360x360 with 1 Axes>"
      ]
     },
     "metadata": {
      "needs_background": "light"
     },
     "output_type": "display_data"
    },
    {
     "data": {
      "text/plain": [
       "<Figure size 432x288 with 0 Axes>"
      ]
     },
     "metadata": {},
     "output_type": "display_data"
    },
    {
     "data": {
      "image/png": "[encoded data removed]",
      "text/plain": [
       "<Figure size 360x360 with 1 Axes>"
      ]
     },
     "metadata": {
      "needs_background": "light"
     },
     "output_type": "display_data"
    },
    {
     "data": {
      "text/plain": [
       "<Figure size 432x288 with 0 Axes>"
      ]
     },
     "metadata": {},
     "output_type": "display_data"
    },
    {
     "data": {
      "image/png": "[encoded data removed]",
      "text/plain": [
       "<Figure size 360x360 with 1 Axes>"
      ]
     },
     "metadata": {
      "needs_background": "light"
     },
     "output_type": "display_data"
    },
    {
     "data": {
      "text/plain": [
       "<Figure size 432x288 with 0 Axes>"
      ]
     },
     "metadata": {},
     "output_type": "display_data"
    },
    {
     "data": {
      "image/png": "[encoded data removed]",
      "text/plain": [
       "<Figure size 360x360 with 1 Axes>"
      ]
     },
     "metadata": {
      "needs_background": "light"
     },
     "output_type": "display_data"
    },
    {
     "data": {
      "text/plain": [
       "<Figure size 432x288 with 0 Axes>"
      ]
     },
     "metadata": {},
     "output_type": "display_data"
    },
    {
     "data": {
      "image/png": "[encoded data removed]",
      "text/plain": [
       "<Figure size 360x360 with 1 Axes>"
      ]
     },
     "metadata": {
      "needs_background": "light"
     },
     "output_type": "display_data"
    },
    {
     "data": {
      "text/plain": [
       "<Figure size 432x288 with 0 Axes>"
      ]
     },
     "metadata": {},
     "output_type": "display_data"
    },
    {
     "data": {
      "image/png": "[encoded data removed]",
      "text/plain": [
       "<Figure size 360x360 with 1 Axes>"
      ]
     },
     "metadata": {
      "needs_background": "light"
     },
     "output_type": "display_data"
    },
    {
     "data": {
      "text/plain": [
       "<Figure size 432x288 with 0 Axes>"
      ]
     },
     "metadata": {},
     "output_type": "display_data"
    },
    {
     "data": {
      "image/png": "[encoded data removed]",
      "text/plain": [
       "<Figure size 360x360 with 1 Axes>"
      ]
     },
     "metadata": {
      "needs_background": "light"
     },
     "output_type": "display_data"
    },
    {
     "data": {
      "text/plain": [
       "<Figure size 432x288 with 0 Axes>"
      ]
     },
     "metadata": {},
     "output_type": "display_data"
    },
    {
     "data": {
      "image/png": "[encoded data removed]",
      "text/plain": [
       "<Figure size 360x360 with 1 Axes>"
      ]
     },
     "metadata": {
      "needs_background": "light"
     },
     "output_type": "display_data"
    },
    {
     "data": {
      "text/plain": [
       "<Figure size 432x288 with 0 Axes>"
      ]
     },
     "metadata": {},
     "output_type": "display_data"
    },
    {
     "data": {
      "image/png": "[encoded data removed]",
      "text/plain": [
       "<Figure size 360x360 with 1 Axes>"
      ]
     },
     "metadata": {
      "needs_background": "light"
     },
     "output_type": "display_data"
    },
    {
     "data": {
      "text/plain": [
       "<Figure size 432x288 with 0 Axes>"
      ]
     },
     "metadata": {},
     "output_type": "display_data"
    },
    {
     "data": {
      "image/png": "[encoded data removed]",
      "text/plain": [
       "<Figure size 360x360 with 1 Axes>"
      ]
     },
     "metadata": {
      "needs_background": "light"
     },
     "output_type": "display_data"
    },
    {
     "data": {
      "text/plain": [
       "<Figure size 432x288 with 0 Axes>"
      ]
     },
     "metadata": {},
     "output_type": "display_data"
    },
    {
     "data": {
      "image/png": "[encoded data removed]",
      "text/plain": [
       "<Figure size 360x360 with 1 Axes>"
      ]
     },
     "metadata": {
      "needs_background": "light"
     },
     "output_type": "display_data"
    },
    {
     "data": {
      "text/plain": [
       "<Figure size 432x288 with 0 Axes>"
      ]
     },
     "metadata": {},
     "output_type": "display_data"
    },
    {
     "data": {
      "image/png": "[encoded data removed]",
      "text/plain": [
       "<Figure size 360x360 with 1 Axes>"
      ]
     },
     "metadata": {
      "needs_background": "light"
     },
     "output_type": "display_data"
    },
    {
     "data": {
      "text/plain": [
       "<Figure size 432x288 with 0 Axes>"
      ]
     },
     "metadata": {},
     "output_type": "display_data"
    },
    {
     "data": {
      "image/png": "[encoded data removed]",
      "text/plain": [
       "<Figure size 360x360 with 1 Axes>"
      ]
     },
     "metadata": {
      "needs_background": "light"
     },
     "output_type": "display_data"
    },
    {
     "data": {
      "text/plain": [
       "<Figure size 432x288 with 0 Axes>"
      ]
     },
     "metadata": {},
     "output_type": "display_data"
    },
    {
     "data": {
      "image/png": "[encoded data removed]",
      "text/plain": [
       "<Figure size 360x360 with 1 Axes>"
      ]
     },
     "metadata": {
      "needs_background": "light"
     },
     "output_type": "display_data"
    },
    {
     "data": {
      "text/plain": [
       "<Figure size 432x288 with 0 Axes>"
      ]
     },
     "metadata": {},
     "output_type": "display_data"
    },
    {
     "data": {
      "image/png": "[encoded data removed]",
      "text/plain": [
       "<Figure size 360x360 with 1 Axes>"
      ]
     },
     "metadata": {
      "needs_background": "light"
     },
     "output_type": "display_data"
    },
    {
     "data": {
      "text/plain": [
       "<Figure size 432x288 with 0 Axes>"
      ]
     },
     "metadata": {},
     "output_type": "display_data"
    },
    {
     "data": {
      "image/png": "[encoded data removed]",
      "text/plain": [
       "<Figure size 360x360 with 1 Axes>"
      ]
     },
     "metadata": {
      "needs_background": "light"
     },
     "output_type": "display_data"
    },
    {
     "data": {
      "text/plain": [
       "<Figure size 432x288 with 0 Axes>"
      ]
     },
     "metadata": {},
     "output_type": "display_data"
    },
    {
     "data": {
      "image/png": "[encoded data removed]",
      "text/plain": [
       "<Figure size 360x360 with 1 Axes>"
      ]
     },
     "metadata": {
      "needs_background": "light"
     },
     "output_type": "display_data"
    },
    {
     "data": {
      "text/plain": [
       "<Figure size 432x288 with 0 Axes>"
      ]
     },
     "metadata": {},
     "output_type": "display_data"
    },
    {
     "data": {
      "image/png": "[encoded data removed]",
      "text/plain": [
       "<Figure size 360x360 with 1 Axes>"
      ]
     },
     "metadata": {
      "needs_background": "light"
     },
     "output_type": "display_data"
    },
    {
     "data": {
      "text/plain": [
       "<Figure size 432x288 with 0 Axes>"
      ]
     },
     "metadata": {},
     "output_type": "display_data"
    },
    {
     "data": {
      "image/png": "[encoded data removed]",
      "text/plain": [
       "<Figure size 360x360 with 1 Axes>"
      ]
     },
     "metadata": {
      "needs_background": "light"
     },
     "output_type": "display_data"
    },
    {
     "data": {
      "text/plain": [
       "<Figure size 432x288 with 0 Axes>"
      ]
     },
     "metadata": {},
     "output_type": "display_data"
    },
    {
     "data": {
      "image/png": "[encoded data removed]",
      "text/plain": [
       "<Figure size 360x360 with 1 Axes>"
      ]
     },
     "metadata": {
      "needs_background": "light"
     },
     "output_type": "display_data"
    },
    {
     "data": {
      "text/plain": [
       "<Figure size 432x288 with 0 Axes>"
      ]
     },
     "metadata": {},
     "output_type": "display_data"
    },
    {
     "data": {
      "image/png": "[encoded data removed]",
      "text/plain": [
       "<Figure size 360x360 with 1 Axes>"
      ]
     },
     "metadata": {
      "needs_background": "light"
     },
     "output_type": "display_data"
    },
    {
     "data": {
      "text/plain": [
       "<Figure size 432x288 with 0 Axes>"
      ]
     },
     "metadata": {},
     "output_type": "display_data"
    },
    {
     "data": {
      "image/png": "[encoded data removed]",
      "text/plain": [
       "<Figure size 360x360 with 1 Axes>"
      ]
     },
     "metadata": {
      "needs_background": "light"
     },
     "output_type": "display_data"
    },
    {
     "data": {
      "text/plain": [
       "<Figure size 432x288 with 0 Axes>"
      ]
     },
     "metadata": {},
     "output_type": "display_data"
    },
    {
     "data": {
      "image/png": "[encoded data removed]",
      "text/plain": [
       "<Figure size 360x360 with 1 Axes>"
      ]
     },
     "metadata": {
      "needs_background": "light"
     },
     "output_type": "display_data"
    },
    {
     "data": {
      "text/plain": [
       "<Figure size 432x288 with 0 Axes>"
      ]
     },
     "metadata": {},
     "output_type": "display_data"
    },
    {
     "data": {
      "image/png": "[encoded data removed]",
      "text/plain": [
       "<Figure size 360x360 with 1 Axes>"
      ]
     },
     "metadata": {
      "needs_background": "light"
     },
     "output_type": "display_data"
    },
    {
     "data": {
      "text/plain": [
       "<Figure size 432x288 with 0 Axes>"
      ]
     },
     "metadata": {},
     "output_type": "display_data"
    },
    {
     "data": {
      "image/png": "[encoded data removed]",
      "text/plain": [
       "<Figure size 360x360 with 1 Axes>"
      ]
     },
     "metadata": {
      "needs_background": "light"
     },
     "output_type": "display_data"
    },
    {
     "data": {
      "text/plain": [
       "<Figure size 432x288 with 0 Axes>"
      ]
     },
     "metadata": {},
     "output_type": "display_data"
    },
    {
     "data": {
      "image/png": "[encoded data removed]",
      "text/plain": [
       "<Figure size 360x360 with 1 Axes>"
      ]
     },
     "metadata": {
      "needs_background": "light"
     },
     "output_type": "display_data"
    },
    {
     "data": {
      "text/plain": [
       "<Figure size 432x288 with 0 Axes>"
      ]
     },
     "metadata": {},
     "output_type": "display_data"
    },
    {
     "data": {
      "image/png": "[encoded data removed]",
      "text/plain": [
       "<Figure size 360x360 with 1 Axes>"
      ]
     },
     "metadata": {
      "needs_background": "light"
     },
     "output_type": "display_data"
    },
    {
     "data": {
      "text/plain": [
       "<Figure size 432x288 with 0 Axes>"
      ]
     },
     "metadata": {},
     "output_type": "display_data"
    },
    {
     "data": {
      "image/png": "[encoded data removed]",
      "text/plain": [
       "<Figure size 360x360 with 1 Axes>"
      ]
     },
     "metadata": {
      "needs_background": "light"
     },
     "output_type": "display_data"
    },
    {
     "data": {
      "text/plain": [
       "<Figure size 432x288 with 0 Axes>"
      ]
     },
     "metadata": {},
     "output_type": "display_data"
    },
    {
     "data": {
      "image/png": "[encoded data removed]",
      "text/plain": [
       "<Figure size 360x360 with 1 Axes>"
      ]
     },
     "metadata": {
      "needs_background": "light"
     },
     "output_type": "display_data"
    },
    {
     "data": {
      "text/plain": [
       "<Figure size 432x288 with 0 Axes>"
      ]
     },
     "metadata": {},
     "output_type": "display_data"
    },
    {
     "data": {
      "image/png": "[encoded data removed]",
      "text/plain": [
       "<Figure size 360x360 with 1 Axes>"
      ]
     },
     "metadata": {
      "needs_background": "light"
     },
     "output_type": "display_data"
    },
    {
     "data": {
      "text/plain": [
       "<Figure size 432x288 with 0 Axes>"
      ]
     },
     "metadata": {},
     "output_type": "display_data"
    },
    {
     "data": {
      "image/png": "[encoded data removed]",
      "text/plain": [
       "<Figure size 360x360 with 1 Axes>"
      ]
     },
     "metadata": {
      "needs_background": "light"
     },
     "output_type": "display_data"
    },
    {
     "data": {
      "text/plain": [
       "<Figure size 432x288 with 0 Axes>"
      ]
     },
     "metadata": {},
     "output_type": "display_data"
    },
    {
     "data": {
      "image/png": "[encoded data removed]",
      "text/plain": [
       "<Figure size 360x360 with 1 Axes>"
      ]
     },
     "metadata": {
      "needs_background": "light"
     },
     "output_type": "display_data"
    },
    {
     "data": {
      "text/plain": [
       "<Figure size 432x288 with 0 Axes>"
      ]
     },
     "metadata": {},
     "output_type": "display_data"
    },
    {
     "data": {
      "image/png": "[encoded data removed]",
      "text/plain": [
       "<Figure size 360x360 with 1 Axes>"
      ]
     },
     "metadata": {
      "needs_background": "light"
     },
     "output_type": "display_data"
    },
    {
     "data": {
      "text/plain": [
       "<Figure size 432x288 with 0 Axes>"
      ]
     },
     "metadata": {},
     "output_type": "display_data"
    },
    {
     "data": {
      "image/png": "[encoded data removed]",
      "text/plain": [
       "<Figure size 360x360 with 1 Axes>"
      ]
     },
     "metadata": {
      "needs_background": "light"
     },
     "output_type": "display_data"
    },
    {
     "data": {
      "text/plain": [
       "<Figure size 432x288 with 0 Axes>"
      ]
     },
     "metadata": {},
     "output_type": "display_data"
    },
    {
     "data": {
      "image/png": "[encoded data removed]",
      "text/plain": [
       "<Figure size 360x360 with 1 Axes>"
      ]
     },
     "metadata": {
      "needs_background": "light"
     },
     "output_type": "display_data"
    },
    {
     "data": {
      "text/plain": [
       "<Figure size 432x288 with 0 Axes>"
      ]
     },
     "metadata": {},
     "output_type": "display_data"
    },
    {
     "data": {
      "image/png": "[encoded data removed]",
      "text/plain": [
       "<Figure size 360x360 with 1 Axes>"
      ]
     },
     "metadata": {
      "needs_background": "light"
     },
     "output_type": "display_data"
    },
    {
     "data": {
      "text/plain": [
       "<Figure size 432x288 with 0 Axes>"
      ]
     },
     "metadata": {},
     "output_type": "display_data"
    },
    {
     "data": {
      "image/png": "[encoded data removed]",
      "text/plain": [
       "<Figure size 360x360 with 1 Axes>"
      ]
     },
     "metadata": {
      "needs_background": "light"
     },
     "output_type": "display_data"
    },
    {
     "data": {
      "text/plain": [
       "<Figure size 432x288 with 0 Axes>"
      ]
     },
     "metadata": {},
     "output_type": "display_data"
    },
    {
     "data": {
      "image/png": "[encoded data removed]",
      "text/plain": [
       "<Figure size 360x360 with 1 Axes>"
      ]
     },
     "metadata": {
      "needs_background": "light"
     },
     "output_type": "display_data"
    },
    {
     "data": {
      "text/plain": [
       "<Figure size 432x288 with 0 Axes>"
      ]
     },
     "metadata": {},
     "output_type": "display_data"
    },
    {
     "data": {
      "image/png": "[encoded data removed]",
      "text/plain": [
       "<Figure size 360x360 with 1 Axes>"
      ]
     },
     "metadata": {
      "needs_background": "light"
     },
     "output_type": "display_data"
    },
    {
     "data": {
      "text/plain": [
       "<Figure size 432x288 with 0 Axes>"
      ]
     },
     "metadata": {},
     "output_type": "display_data"
    },
    {
     "data": {
      "image/png": "[encoded data removed]",
      "text/plain": [
       "<Figure size 360x360 with 1 Axes>"
      ]
     },
     "metadata": {
      "needs_background": "light"
     },
     "output_type": "display_data"
    }
   ],
   "source": [
    "# get some idea about the distributions\n",
    "for column in df_f.columns:\n",
    "    plt.figure()             \n",
    "    sns.displot(df_f[column])"
   ]
  },
  {
   "cell_type": "code",
   "execution_count": 31,
   "id": "e28b10e0",
   "metadata": {},
   "outputs": [],
   "source": [
    "# Ideal Conditions specified by verifysoft\n",
    "# 1. Number Of Lines < 400\n",
    "# 2. HALSTEAD_VOLUME(V) < 1000 & >20\n",
    "# 3. CYCLOMATIC_COMPLEXITY < 15 \n",
    "# 4. bugs (HALSTEAD_ERROR_EST) < 2"
   ]
  },
  {
   "cell_type": "code",
   "execution_count": 35,
   "id": "657f481e",
   "metadata": {},
   "outputs": [
    {
     "data": {
      "text/plain": [
       "464758.00154489005"
      ]
     },
     "execution_count": 35,
     "metadata": {},
     "output_type": "execute_result"
    }
   ],
   "source": [
    "# 5. formula for calculating HALSTEAD_EFFORT(e) : b = e**(2/3)/3000\n",
    "e = (2*3000)**(3/2)\n",
    "e"
   ]
  },
  {
   "cell_type": "code",
   "execution_count": 36,
   "id": "757ddebd",
   "metadata": {},
   "outputs": [
    {
     "data": {
      "text/plain": [
       "25819.888974716116"
      ]
     },
     "execution_count": 36,
     "metadata": {},
     "output_type": "execute_result"
    }
   ],
   "source": [
    "# 6. formula for calculating HALSTEAD_PROG_TIME (t) : t = e/18\n",
    "t = e/18\n",
    "t"
   ]
  },
  {
   "cell_type": "code",
   "execution_count": 37,
   "id": "2985d658",
   "metadata": {},
   "outputs": [
    {
     "data": {
      "text/plain": [
       "464.7580015448901"
      ]
     },
     "execution_count": 37,
     "metadata": {},
     "output_type": "execute_result"
    }
   ],
   "source": [
    "# 7. formula for calculating HALSTEAD_DIFFICULTY (d) : e = v*d\n",
    "e/1000"
   ]
  },
  {
   "cell_type": "code",
   "execution_count": 38,
   "id": "8e8147f7",
   "metadata": {},
   "outputs": [
    {
     "data": {
      "text/plain": [
       "23237.900077244503"
      ]
     },
     "execution_count": 38,
     "metadata": {},
     "output_type": "execute_result"
    }
   ],
   "source": [
    "e/20"
   ]
  },
  {
   "cell_type": "code",
   "execution_count": 39,
   "id": "0e735c49",
   "metadata": {},
   "outputs": [],
   "source": [
    "columns_ideal = ['LOC_TOTAL', 'HALSTEAD_VOLUME', 'CYCLOMATIC_COMPLEXITY', 'HALSTEAD_ERROR_EST', 'HALSTEAD_EFFORT', \n",
    "                  'HALSTEAD_PROG_TIME', 'HALSTEAD_DIFFICULTY', 'defected']"
   ]
  },
  {
   "cell_type": "code",
   "execution_count": 40,
   "id": "595e07a6",
   "metadata": {},
   "outputs": [],
   "source": [
    "df_ideal = df_f[columns_ideal].copy()"
   ]
  },
  {
   "cell_type": "code",
   "execution_count": 42,
   "id": "f1b8817d",
   "metadata": {},
   "outputs": [],
   "source": [
    "ideal_condition = (df_ideal['LOC_TOTAL'] < 400) & (df_ideal['HALSTEAD_VOLUME'] < 1000) & (df_ideal['HALSTEAD_VOLUME'] > 20) & (df_ideal['CYCLOMATIC_COMPLEXITY'] < 15) & (df_ideal['HALSTEAD_ERROR_EST'] < 2) & (df_ideal['HALSTEAD_EFFORT'] < 464758.0) & (df_ideal['HALSTEAD_PROG_TIME'] < 25820) & (df_ideal['HALSTEAD_DIFFICULTY'] < 23237.9)"
   ]
  },
  {
   "cell_type": "code",
   "execution_count": 44,
   "id": "17e61991",
   "metadata": {},
   "outputs": [],
   "source": [
    "df_ideal['REDESIGN_STATUS'] = pd.DataFrame(ideal_condition)"
   ]
  },
  {
   "cell_type": "code",
   "execution_count": 45,
   "id": "6f4aa19b",
   "metadata": {},
   "outputs": [],
   "source": [
    "# 0 if no changes\n",
    "# 1 is Redsign needed\n",
    "df_ideal['REDESIGN_STATUS'] = [0 if evaluation == True else 1 for evaluation in df_ideal['REDESIGN_STATUS']]"
   ]
  },
  {
   "cell_type": "code",
   "execution_count": 46,
   "id": "eb9711fd",
   "metadata": {},
   "outputs": [
    {
     "data": {
      "text/html": [
       "<div>\n",
       "<style scoped>\n",
       "    .dataframe tbody tr th:only-of-type {\n",
       "        vertical-align: middle;\n",
       "    }\n",
       "\n",
       "    .dataframe tbody tr th {\n",
       "        vertical-align: top;\n",
       "    }\n",
       "\n",
       "    .dataframe thead th {\n",
       "        text-align: right;\n",
       "    }\n",
       "</style>\n",
       "<table border=\"1\" class=\"dataframe\">\n",
       "  <thead>\n",
       "    <tr style=\"text-align: right;\">\n",
       "      <th></th>\n",
       "      <th>LOC_TOTAL</th>\n",
       "      <th>HALSTEAD_VOLUME</th>\n",
       "      <th>CYCLOMATIC_COMPLEXITY</th>\n",
       "      <th>HALSTEAD_ERROR_EST</th>\n",
       "      <th>HALSTEAD_EFFORT</th>\n",
       "      <th>HALSTEAD_PROG_TIME</th>\n",
       "      <th>HALSTEAD_DIFFICULTY</th>\n",
       "      <th>defected</th>\n",
       "      <th>REDESIGN_STATUS</th>\n",
       "    </tr>\n",
       "  </thead>\n",
       "  <tbody>\n",
       "    <tr>\n",
       "      <th>0</th>\n",
       "      <td>29</td>\n",
       "      <td>849.37</td>\n",
       "      <td>7</td>\n",
       "      <td>0.28</td>\n",
       "      <td>19562.81</td>\n",
       "      <td>1086.82</td>\n",
       "      <td>23.03</td>\n",
       "      <td>0.0</td>\n",
       "      <td>0</td>\n",
       "    </tr>\n",
       "    <tr>\n",
       "      <th>1</th>\n",
       "      <td>14</td>\n",
       "      <td>114.71</td>\n",
       "      <td>4</td>\n",
       "      <td>0.04</td>\n",
       "      <td>825.94</td>\n",
       "      <td>45.89</td>\n",
       "      <td>7.20</td>\n",
       "      <td>1.0</td>\n",
       "      <td>0</td>\n",
       "    </tr>\n",
       "    <tr>\n",
       "      <th>2</th>\n",
       "      <td>19</td>\n",
       "      <td>477.56</td>\n",
       "      <td>7</td>\n",
       "      <td>0.16</td>\n",
       "      <td>9073.67</td>\n",
       "      <td>504.09</td>\n",
       "      <td>19.00</td>\n",
       "      <td>0.0</td>\n",
       "      <td>0</td>\n",
       "    </tr>\n",
       "    <tr>\n",
       "      <th>3</th>\n",
       "      <td>14</td>\n",
       "      <td>350.00</td>\n",
       "      <td>2</td>\n",
       "      <td>0.12</td>\n",
       "      <td>3831.58</td>\n",
       "      <td>212.87</td>\n",
       "      <td>10.95</td>\n",
       "      <td>0.0</td>\n",
       "      <td>0</td>\n",
       "    </tr>\n",
       "    <tr>\n",
       "      <th>4</th>\n",
       "      <td>20</td>\n",
       "      <td>302.66</td>\n",
       "      <td>3</td>\n",
       "      <td>0.10</td>\n",
       "      <td>3010.71</td>\n",
       "      <td>167.26</td>\n",
       "      <td>9.95</td>\n",
       "      <td>0.0</td>\n",
       "      <td>0</td>\n",
       "    </tr>\n",
       "  </tbody>\n",
       "</table>\n",
       "</div>"
      ],
      "text/plain": [
       "   LOC_TOTAL  HALSTEAD_VOLUME  CYCLOMATIC_COMPLEXITY  HALSTEAD_ERROR_EST  \\\n",
       "0         29           849.37                      7                0.28   \n",
       "1         14           114.71                      4                0.04   \n",
       "2         19           477.56                      7                0.16   \n",
       "3         14           350.00                      2                0.12   \n",
       "4         20           302.66                      3                0.10   \n",
       "\n",
       "   HALSTEAD_EFFORT  HALSTEAD_PROG_TIME  HALSTEAD_DIFFICULTY  defected  \\\n",
       "0         19562.81             1086.82                23.03       0.0   \n",
       "1           825.94               45.89                 7.20       1.0   \n",
       "2          9073.67              504.09                19.00       0.0   \n",
       "3          3831.58              212.87                10.95       0.0   \n",
       "4          3010.71              167.26                 9.95       0.0   \n",
       "\n",
       "   REDESIGN_STATUS  \n",
       "0                0  \n",
       "1                0  \n",
       "2                0  \n",
       "3                0  \n",
       "4                0  "
      ]
     },
     "execution_count": 46,
     "metadata": {},
     "output_type": "execute_result"
    }
   ],
   "source": [
    "df_ideal.head()"
   ]
  },
  {
   "cell_type": "code",
   "execution_count": 48,
   "id": "1827edc4",
   "metadata": {},
   "outputs": [
    {
     "data": {
      "text/html": [
       "<div>\n",
       "<style scoped>\n",
       "    .dataframe tbody tr th:only-of-type {\n",
       "        vertical-align: middle;\n",
       "    }\n",
       "\n",
       "    .dataframe tbody tr th {\n",
       "        vertical-align: top;\n",
       "    }\n",
       "\n",
       "    .dataframe thead th {\n",
       "        text-align: right;\n",
       "    }\n",
       "</style>\n",
       "<table border=\"1\" class=\"dataframe\">\n",
       "  <thead>\n",
       "    <tr style=\"text-align: right;\">\n",
       "      <th></th>\n",
       "      <th>defected</th>\n",
       "      <th>REDESIGN_STATUS</th>\n",
       "    </tr>\n",
       "  </thead>\n",
       "  <tbody>\n",
       "    <tr>\n",
       "      <th>0</th>\n",
       "      <td>0.0</td>\n",
       "      <td>0</td>\n",
       "    </tr>\n",
       "    <tr>\n",
       "      <th>1</th>\n",
       "      <td>1.0</td>\n",
       "      <td>0</td>\n",
       "    </tr>\n",
       "    <tr>\n",
       "      <th>2</th>\n",
       "      <td>0.0</td>\n",
       "      <td>0</td>\n",
       "    </tr>\n",
       "    <tr>\n",
       "      <th>3</th>\n",
       "      <td>0.0</td>\n",
       "      <td>0</td>\n",
       "    </tr>\n",
       "    <tr>\n",
       "      <th>4</th>\n",
       "      <td>0.0</td>\n",
       "      <td>0</td>\n",
       "    </tr>\n",
       "    <tr>\n",
       "      <th>...</th>\n",
       "      <td>...</td>\n",
       "      <td>...</td>\n",
       "    </tr>\n",
       "    <tr>\n",
       "      <th>4518</th>\n",
       "      <td>0.0</td>\n",
       "      <td>0</td>\n",
       "    </tr>\n",
       "    <tr>\n",
       "      <th>4519</th>\n",
       "      <td>0.0</td>\n",
       "      <td>1</td>\n",
       "    </tr>\n",
       "    <tr>\n",
       "      <th>4520</th>\n",
       "      <td>0.0</td>\n",
       "      <td>0</td>\n",
       "    </tr>\n",
       "    <tr>\n",
       "      <th>4521</th>\n",
       "      <td>0.0</td>\n",
       "      <td>1</td>\n",
       "    </tr>\n",
       "    <tr>\n",
       "      <th>4522</th>\n",
       "      <td>0.0</td>\n",
       "      <td>0</td>\n",
       "    </tr>\n",
       "  </tbody>\n",
       "</table>\n",
       "<p>4523 rows × 2 columns</p>\n",
       "</div>"
      ],
      "text/plain": [
       "      defected  REDESIGN_STATUS\n",
       "0          0.0                0\n",
       "1          1.0                0\n",
       "2          0.0                0\n",
       "3          0.0                0\n",
       "4          0.0                0\n",
       "...        ...              ...\n",
       "4518       0.0                0\n",
       "4519       0.0                1\n",
       "4520       0.0                0\n",
       "4521       0.0                1\n",
       "4522       0.0                0\n",
       "\n",
       "[4523 rows x 2 columns]"
      ]
     },
     "execution_count": 48,
     "metadata": {},
     "output_type": "execute_result"
    }
   ],
   "source": [
    "df_ideal[['defected', 'REDESIGN_STATUS']]"
   ]
  },
  {
   "cell_type": "code",
   "execution_count": 49,
   "id": "0ce07436",
   "metadata": {},
   "outputs": [
    {
     "data": {
      "text/plain": [
       "0.0    4165\n",
       "1.0     358\n",
       "Name: defected, dtype: int64"
      ]
     },
     "execution_count": 49,
     "metadata": {},
     "output_type": "execute_result"
    }
   ],
   "source": [
    "df_ideal['defected'].value_counts()"
   ]
  },
  {
   "cell_type": "code",
   "execution_count": 50,
   "id": "7fc772de",
   "metadata": {},
   "outputs": [
    {
     "data": {
      "text/plain": [
       "0    3475\n",
       "1    1048\n",
       "Name: REDESIGN_STATUS, dtype: int64"
      ]
     },
     "execution_count": 50,
     "metadata": {},
     "output_type": "execute_result"
    }
   ],
   "source": [
    "df_ideal['REDESIGN_STATUS'].value_counts()"
   ]
  },
  {
   "cell_type": "code",
   "execution_count": null,
   "id": "ffc0356a",
   "metadata": {},
   "outputs": [],
   "source": []
  }
 ],
 "metadata": {
  "kernelspec": {
   "display_name": "Python 3 (ipykernel)",
   "language": "python",
   "name": "python3"
  },
  "language_info": {
   "codemirror_mode": {
    "name": "ipython",
    "version": 3
   },
   "file_extension": ".py",
   "mimetype": "text/x-python",
   "name": "python",
   "nbconvert_exporter": "python",
   "pygments_lexer": "ipython3",
   "version": "3.9.7"
  }
 },
 "nbformat": 4,
 "nbformat_minor": 5
}
